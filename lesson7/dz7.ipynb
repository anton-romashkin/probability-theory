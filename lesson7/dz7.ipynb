{
 "cells": [
  {
   "cell_type": "code",
   "execution_count": 12,
   "metadata": {},
   "outputs": [],
   "source": [
    "import numpy as np\n",
    "import matplotlib.pyplot as plt"
   ]
  },
  {
   "cell_type": "markdown",
   "metadata": {},
   "source": [
    "### 1"
   ]
  },
  {
   "cell_type": "markdown",
   "metadata": {},
   "source": [
    "Даны значения величины заработной платы заемщиков банка (zp) и значения их поведенческого кредитного скоринга (ks): zp = [35, 45, 190, 200, 40, 70, 54, 150, 120, 110], ks = [401, 574, 874, 919, 459, 739, 653, 902, 746, 832]. Используя математические операции, посчитать коэффициенты линейной регрессии, приняв за X заработную плату (то есть, zp - признак), а за y - значения скорингового балла (то есть, ks - целевая переменная). Произвести расчет как с использованием intercept, так и без."
   ]
  },
  {
   "cell_type": "markdown",
   "metadata": {},
   "source": [
    "#### С интерсептом"
   ]
  },
  {
   "cell_type": "code",
   "execution_count": 3,
   "metadata": {},
   "outputs": [],
   "source": [
    "x = np.array([35, 45, 190, 200, 40, 70, 54, 150, 120, 110])\n",
    "y = np.array([401, 574, 874, 919, 459, 739, 653, 902, 746, 832])\n",
    "\n",
    "n = np.count_nonzero(x)"
   ]
  },
  {
   "cell_type": "code",
   "execution_count": 8,
   "metadata": {},
   "outputs": [
    {
     "data": {
      "text/plain": [
       "2.620538882402765"
      ]
     },
     "execution_count": 8,
     "metadata": {},
     "output_type": "execute_result"
    }
   ],
   "source": [
    "# Вычислим коэффициент B\n",
    "b = (np.mean(x*y) - np.mean(x) * np.mean(y)) / (np.mean(x**2) - np.mean(x)**2)\n",
    "b"
   ]
  },
  {
   "cell_type": "code",
   "execution_count": 9,
   "metadata": {},
   "outputs": [
    {
     "data": {
      "text/plain": [
       "444.1773573243596"
      ]
     },
     "execution_count": 9,
     "metadata": {},
     "output_type": "execute_result"
    }
   ],
   "source": [
    "# Вычислим интерсепт\n",
    "a = np.mean(y) - b*np.mean(x)\n",
    "a"
   ]
  },
  {
   "cell_type": "code",
   "execution_count": 10,
   "metadata": {},
   "outputs": [
    {
     "data": {
      "text/plain": [
       "array([535.89621821, 562.10160703, 942.07974498, 968.2851338 ,\n",
       "       548.99891262, 627.61507909, 585.68645697, 837.25818968,\n",
       "       758.64202321, 732.43663439])"
      ]
     },
     "execution_count": 10,
     "metadata": {},
     "output_type": "execute_result"
    }
   ],
   "source": [
    "# Получили модель y_hat = 444.17 + 2.62 * x\n",
    "y_hat = a + b * x\n",
    "y_hat"
   ]
  },
  {
   "cell_type": "code",
   "execution_count": 13,
   "metadata": {},
   "outputs": [
    {
     "data": {
      "text/plain": [
       "<function matplotlib.pyplot.show(*args, **kw)>"
      ]
     },
     "execution_count": 13,
     "metadata": {},
     "output_type": "execute_result"
    },
    {
     "data": {
      "image/png": "[encoded data removed]",
      "text/plain": [
       "<Figure size 432x288 with 1 Axes>"
      ]
     },
     "metadata": {
      "needs_background": "light"
     },
     "output_type": "display_data"
    }
   ],
   "source": [
    "plt.scatter(x, y)\n",
    "plt.scatter(x, y_hat)\n",
    "plt.show"
   ]
  },
  {
   "cell_type": "code",
   "execution_count": 18,
   "metadata": {},
   "outputs": [
    {
     "data": {
      "text/plain": [
       "(6470.414201176658, 444.1773573243596, 2.620538882402765)"
      ]
     },
     "execution_count": 18,
     "metadata": {},
     "output_type": "execute_result"
    }
   ],
   "source": [
    "# Посчитаем среднюю квадратичную ошибку\n",
    "mse = np.sum((y - y_hat)**2) / n\n",
    "\n",
    "mse, a, b"
   ]
  },
  {
   "cell_type": "code",
   "execution_count": 16,
   "metadata": {},
   "outputs": [
    {
     "data": {
      "text/plain": [
       "array([[  1.,  35.],\n",
       "       [  1.,  45.],\n",
       "       [  1., 190.],\n",
       "       [  1., 200.],\n",
       "       [  1.,  40.],\n",
       "       [  1.,  70.],\n",
       "       [  1.,  54.],\n",
       "       [  1., 150.],\n",
       "       [  1., 120.],\n",
       "       [  1., 110.]])"
      ]
     },
     "execution_count": 16,
     "metadata": {},
     "output_type": "execute_result"
    }
   ],
   "source": [
    "# Проверим результат через матричный метод поиска коэффициентов\n",
    "# B_hat = ((x_t * x)**-1) * x_t * y\n",
    "\n",
    "\n",
    "X = x.reshape((10, 1))\n",
    "Y = y.reshape((10, 1))\n",
    "\n",
    "# так как сейчас мы считаем модель с интерсептой, добавим столбец с единицами\n",
    "X = np.hstack([np.ones((10, 1)), X])\n",
    "X"
   ]
  },
  {
   "cell_type": "code",
   "execution_count": 17,
   "metadata": {},
   "outputs": [
    {
     "data": {
      "text/plain": [
       "array([[444.17735732],\n",
       "       [  2.62053888]])"
      ]
     },
     "execution_count": 17,
     "metadata": {},
     "output_type": "execute_result"
    }
   ],
   "source": [
    "# умножаем матрицы с помощью функции np.dot, обратную матрицу находим с помощью np.linalg.inv, транспонируем с помощью .T\n",
    "# @Y используем для того, чтобы дополнительно умножить на матрицу Y\n",
    "\n",
    "B = np.dot(np.linalg.inv(np.dot(X.T, X)), X.T@Y)\n",
    "B"
   ]
  },
  {
   "cell_type": "code",
   "execution_count": 19,
   "metadata": {},
   "outputs": [],
   "source": [
    "# Получили те же самые коэффициенты"
   ]
  },
  {
   "cell_type": "markdown",
   "metadata": {},
   "source": [
    "#### Без интерсепта"
   ]
  },
  {
   "cell_type": "code",
   "execution_count": 21,
   "metadata": {},
   "outputs": [
    {
     "data": {
      "text/plain": [
       "array([[5.88982042]])"
      ]
     },
     "execution_count": 21,
     "metadata": {},
     "output_type": "execute_result"
    }
   ],
   "source": [
    "x = np.array([35, 45, 190, 200, 40, 70, 54, 150, 120, 110])\n",
    "y = np.array([401, 574, 874, 919, 459, 739, 653, 902, 746, 832])\n",
    "\n",
    "n = np.count_nonzero(x)\n",
    "\n",
    "X = x.reshape((10, 1))\n",
    "Y = y.reshape((10, 1))\n",
    "\n",
    "B = np.dot(np.linalg.inv(np.dot(X.T, X)), X.T@Y)\n",
    "B"
   ]
  },
  {
   "cell_type": "code",
   "execution_count": 30,
   "metadata": {},
   "outputs": [
    {
     "data": {
      "text/plain": [
       "array([[ 206.1437147 ,  265.04191891, 1119.06587983, 1177.96408403,\n",
       "         235.59281681,  412.28742941,  318.05030269,  883.47306302,\n",
       "         706.77845042,  647.88024621]])"
      ]
     },
     "execution_count": 30,
     "metadata": {},
     "output_type": "execute_result"
    }
   ],
   "source": [
    "# Получили коэффициент B, равный 5.89. Тогда модель y_hat = 5.89 * x\n",
    "y_hat = B * x\n",
    "y_hat"
   ]
  },
  {
   "cell_type": "code",
   "execution_count": 33,
   "metadata": {},
   "outputs": [
    {
     "data": {
      "text/plain": [
       "<function matplotlib.pyplot.show(*args, **kw)>"
      ]
     },
     "execution_count": 33,
     "metadata": {},
     "output_type": "execute_result"
    },
    {
     "data": {
      "image/png": "[encoded data removed]",
      "text/plain": [
       "<Figure size 432x288 with 1 Axes>"
      ]
     },
     "metadata": {
      "needs_background": "light"
     },
     "output_type": "display_data"
    }
   ],
   "source": [
    "plt.scatter(x, y)\n",
    "plt.scatter(x, y_hat)\n",
    "plt.show"
   ]
  },
  {
   "cell_type": "code",
   "execution_count": 34,
   "metadata": {},
   "outputs": [
    {
     "data": {
      "text/plain": [
       "(56516.8584157194, array([[5.88982042]]))"
      ]
     },
     "execution_count": 34,
     "metadata": {},
     "output_type": "execute_result"
    }
   ],
   "source": [
    "# Посчитаем среднюю квадратичную ошибку\n",
    "mse = np.sum((y - y_hat)**2) / n\n",
    "\n",
    "mse, B"
   ]
  },
  {
   "cell_type": "code",
   "execution_count": 35,
   "metadata": {},
   "outputs": [],
   "source": [
    "# В варианте без интерсепта ошибка получилась больше"
   ]
  },
  {
   "cell_type": "markdown",
   "metadata": {},
   "source": [
    "## 2"
   ]
  },
  {
   "cell_type": "markdown",
   "metadata": {},
   "source": [
    "Посчитать коэффициент линейной регрессии при заработной плате (zp), используя градиентный спуск (без intercept)."
   ]
  },
  {
   "cell_type": "code",
   "execution_count": 74,
   "metadata": {},
   "outputs": [],
   "source": [
    "x = np.array([35, 45, 190, 200, 40, 70, 54, 150, 120, 110])\n",
    "y = np.array([401, 574, 874, 919, 459, 739, 653, 902, 746, 832])\n",
    "\n",
    "n = np.count_nonzero(x)"
   ]
  },
  {
   "cell_type": "code",
   "execution_count": 75,
   "metadata": {},
   "outputs": [],
   "source": [
    "# Возьмем модель без интерсепта y_hat = B1 * x\n",
    "\n",
    "# Нам понадобится alpha - скорость обучения - и начальный b1, который будем изменять\n",
    "\n",
    "alpha = 1e-5\n",
    "b1 = 1"
   ]
  },
  {
   "cell_type": "code",
   "execution_count": 76,
   "metadata": {},
   "outputs": [
    {
     "name": "stdout",
     "output_type": "stream",
     "text": [
      "Iteration: 0, b1=2.347302, mse=229405.42884192182\n",
      "Iteration: 10, b1=5.748727835228332, mse=56791.110810876475\n",
      "Iteration: 20, b1=5.884200938409783, mse=56517.293461113455\n",
      "Iteration: 30, b1=5.889596605572516, mse=56516.859105830044\n",
      "Iteration: 40, b1=5.889811505973018, mse=56516.858416814124\n",
      "Iteration: 50, b1=5.8898200650966155, mse=56516.85841572114\n",
      "Iteration: 60, b1=5.889820405992196, mse=56516.85841571941\n",
      "Iteration: 70, b1=5.889820419569496, mse=56516.85841571941\n",
      "Iteration: 80, b1=5.889820420110257, mse=56516.8584157194\n",
      "Iteration: 90, b1=5.889820420131795, mse=56516.85841571941\n",
      "Iteration: 100, b1=5.8898204201326525, mse=56516.8584157194\n"
     ]
    }
   ],
   "source": [
    "for i in range (101):\n",
    "    b1 -= alpha * (2/n) * np.sum((b1*x - y)*x)\n",
    "    if i%10==0:\n",
    "        print('Iteration: {i}, b1={b1}, mse={mse}'.format(i=i, b1=b1, mse=np.sum((b1*x - y)**2) / n))"
   ]
  },
  {
   "cell_type": "code",
   "execution_count": 64,
   "metadata": {},
   "outputs": [],
   "source": [
    "# Достаточно 50 итераций, чтобы получить среднюю квадратичную ошибу, как в предыдущем задании"
   ]
  },
  {
   "cell_type": "markdown",
   "metadata": {},
   "source": [
    "## 3"
   ]
  },
  {
   "cell_type": "markdown",
   "metadata": {},
   "source": [
    "Произвести вычисления как в пункте 2, но с вычислением intercept. Учесть, что изменение коэффициентов должно производиться на каждом шаге одновременно (то есть изменение одного коэффициента не должно влиять на изменение другого во время одной итерации)."
   ]
  },
  {
   "cell_type": "code",
   "execution_count": 116,
   "metadata": {},
   "outputs": [],
   "source": [
    "x = np.array([35, 45, 190, 200, 40, 70, 54, 150, 120, 110])\n",
    "y = np.array([401, 574, 874, 919, 459, 739, 653, 902, 746, 832])\n",
    "\n",
    "n = np.count_nonzero(x)"
   ]
  },
  {
   "cell_type": "code",
   "execution_count": 117,
   "metadata": {},
   "outputs": [],
   "source": [
    "alpha = 1e-5\n",
    "a = 1\n",
    "b = 0.1"
   ]
  },
  {
   "cell_type": "code",
   "execution_count": 118,
   "metadata": {},
   "outputs": [
    {
     "name": "stdout",
     "output_type": "stream",
     "text": [
      "1.0139752 2.607228\n",
      "5.984813303152525 5.955120016425152\n",
      "6.981146023147803 6.734374082684839\n",
      "7.180812018043755 6.890537315402113\n",
      "7.220825267350668 6.92183257109423\n",
      "7.228843959371465 6.928104169163718\n",
      "7.23045091263914 6.929361003194152\n",
      "7.230772947554287 6.92961287389163\n",
      "7.230837483647937 6.929663349011425\n",
      "7.23085041674056 6.929673464271933\n"
     ]
    }
   ],
   "source": [
    "for i in range (10000):\n",
    "    # рассчитываем y_hat с текущими коэффициентами a и b \n",
    "    y_hat = a + b * x\n",
    "    \n",
    "    # вычисляем отклонение от y\n",
    "    error = (y - y_hat)\n",
    "    \n",
    "    # вычисляем градиенты\n",
    "    a_grad = -2 * error.mean()\n",
    "    b_grad = -2 * (x * error).mean()\n",
    "    \n",
    "    # обновляем a и b\n",
    "    a = a - alpha * a_grad\n",
    "    b = a - alpha * b_grad\n",
    "    \n",
    "    if i%1000==0:\n",
    "        print(a, b)"
   ]
  },
  {
   "cell_type": "code",
   "execution_count": 119,
   "metadata": {},
   "outputs": [],
   "source": [
    "# Получили модель y_hat = 7.23 + 6.93 * x"
   ]
  },
  {
   "cell_type": "code",
   "execution_count": 120,
   "metadata": {},
   "outputs": [
    {
     "data": {
      "text/plain": [
       "<function matplotlib.pyplot.show(*args, **kw)>"
      ]
     },
     "execution_count": 120,
     "metadata": {},
     "output_type": "execute_result"
    },
    {
     "data": {
      "image/png": "[encoded data removed]",
      "text/plain": [
       "<Figure size 432x288 with 1 Axes>"
      ]
     },
     "metadata": {
      "needs_background": "light"
     },
     "output_type": "display_data"
    }
   ],
   "source": [
    "plt.scatter(x, y)\n",
    "plt.scatter(x, y_hat)\n",
    "plt.show"
   ]
  }
 ],
 "metadata": {
  "kernelspec": {
   "display_name": "Python 3",
   "language": "python",
   "name": "python3"
  },
  "language_info": {
   "codemirror_mode": {
    "name": "ipython",
    "version": 3
   },
   "file_extension": ".py",
   "mimetype": "text/x-python",
   "name": "python",
   "nbconvert_exporter": "python",
   "pygments_lexer": "ipython3",
   "version": "3.8.1"
  }
 },
 "nbformat": 4,
 "nbformat_minor": 4
}
