{
 "cells": [
  {
   "cell_type": "code",
   "execution_count": 1,
   "metadata": {},
   "outputs": [],
   "source": [
    "import numpy as np\n",
    "from scipy import stats"
   ]
  },
  {
   "cell_type": "markdown",
   "metadata": {},
   "source": [
    "### 1"
   ]
  },
  {
   "cell_type": "markdown",
   "metadata": {},
   "source": [
    "Провести дисперсионный анализ для определения того, есть ли различия среднего роста среди взрослых футболистов, хоккеистов и штангистов. \n",
    "Даны значения роста в трех группах случайно выбранных спортсменов: \n",
    "Футболисты: 173, 175, 180, 178, 177, 185, 183, 182. \n",
    "Хоккеисты: 177, 179, 180, 188, 177, 172, 171, 184, 180. \n",
    "Штангисты: 172, 173, 169, 177, 166, 180, 178, 177, 172, 166, 170."
   ]
  },
  {
   "cell_type": "code",
   "execution_count": 3,
   "metadata": {},
   "outputs": [],
   "source": [
    "y1 = np.array([173, 175, 180, 178, 177, 185, 183, 182])\n",
    "y2 = np.array([177, 179, 180, 188, 177, 172, 171, 184, 180])\n",
    "y3 = np.array([172, 173, 169, 177, 166, 180, 178, 177, 172, 166, 170])"
   ]
  },
  {
   "cell_type": "code",
   "execution_count": 4,
   "metadata": {},
   "outputs": [
    {
     "data": {
      "text/plain": [
       "F_onewayResult(statistic=5.500053450812596, pvalue=0.010482206918698694)"
      ]
     },
     "execution_count": 4,
     "metadata": {},
     "output_type": "execute_result"
    }
   ],
   "source": [
    "stats.f_oneway(y1, y2, y3)"
   ]
  },
  {
   "cell_type": "code",
   "execution_count": 5,
   "metadata": {},
   "outputs": [],
   "source": [
    "pvalue=0.010482206918698694\n",
    "alpha=0.05"
   ]
  },
  {
   "cell_type": "code",
   "execution_count": 6,
   "metadata": {},
   "outputs": [
    {
     "data": {
      "text/plain": [
       "False"
      ]
     },
     "execution_count": 6,
     "metadata": {},
     "output_type": "execute_result"
    }
   ],
   "source": [
    "pvalue > alpha"
   ]
  },
  {
   "cell_type": "markdown",
   "metadata": {},
   "source": [
    "pvalue - вероятность того, что нулевая гипотеза верна. У нас она меньше (на уровне значимости 5%). Значит, мы отвергаем нулевую гипотезу и принимаем альтернативную - различия есть."
   ]
  },
  {
   "cell_type": "code",
   "execution_count": 7,
   "metadata": {},
   "outputs": [],
   "source": [
    "# второй способ\n",
    "\n",
    "y1 = np.array([173, 175, 180, 178, 177, 185, 183, 182])\n",
    "y2 = np.array([177, 179, 180, 188, 177, 172, 171, 184, 180])\n",
    "y3 = np.array([172, 173, 169, 177, 166, 180, 178, 177, 172, 166, 170])\n",
    "\n",
    "\n",
    "k = 3\n",
    "n1 = np.count_nonzero(y1)\n",
    "n2 = np.count_nonzero(y2)\n",
    "n3 = np.count_nonzero(y3)\n",
    "\n",
    "n = n1 + n2 + n3"
   ]
  },
  {
   "cell_type": "code",
   "execution_count": 8,
   "metadata": {},
   "outputs": [],
   "source": [
    "# np.sum(y1)/n1\n",
    "\n",
    "# Находим среднее значение по каждой переменной и по всем значениям\n",
    "\n",
    "y1_mean = np.mean(y1)\n",
    "y2_mean = np.mean(y2)\n",
    "y3_mean = np.mean(y3)\n",
    "\n",
    "y_mean = (np.sum(y1)+np.sum(y2)+np.sum(y3))/n"
   ]
  },
  {
   "cell_type": "code",
   "execution_count": 9,
   "metadata": {},
   "outputs": [],
   "source": [
    "# S = сумма квадратов отклонений наблюдений от общего среднего\n",
    "s1 = np.sum((y1 - y_mean)**2)\n",
    "s2 = np.sum((y2 - y_mean)**2)\n",
    "s3 = np.sum((y3 - y_mean)**2)\n",
    "s = s1+s2+s3"
   ]
  },
  {
   "cell_type": "code",
   "execution_count": 10,
   "metadata": {},
   "outputs": [],
   "source": [
    "# S факторная  - сумма квадратов отклонений групповых значений от общего среднего значения y_mean\n",
    "s_f1 = np.sum((y1_mean - y_mean)**2) * n1\n",
    "s_f2 = np.sum((y2_mean - y_mean)**2) * n2\n",
    "s_f3 = np.sum((y3_mean - y_mean)**2) * n3\n",
    "\n",
    "s_f = s_f1 + s_f2 + s_f3"
   ]
  },
  {
   "cell_type": "code",
   "execution_count": 11,
   "metadata": {},
   "outputs": [],
   "source": [
    "# S остаточная  - отклонения от среднего по группам\n",
    "s_o1 = np.sum((y1 - y1_mean)**2)\n",
    "s_o2 = np.sum((y2 - y2_mean)**2)\n",
    "s_o3 = np.sum((y3 - y3_mean)**2)\n",
    "\n",
    "s_o = s_o1 + s_o2 + s_o3"
   ]
  },
  {
   "cell_type": "code",
   "execution_count": 12,
   "metadata": {},
   "outputs": [],
   "source": [
    "# s = s_f + s_o\n",
    "s = s_f + s_o"
   ]
  },
  {
   "cell_type": "code",
   "execution_count": 13,
   "metadata": {},
   "outputs": [
    {
     "data": {
      "text/plain": [
       "126.9537337662339"
      ]
     },
     "execution_count": 13,
     "metadata": {},
     "output_type": "execute_result"
    }
   ],
   "source": [
    "# вычисляем факторную дисперсию\n",
    "var_f = s_f / (k - 1)\n",
    "var_f"
   ]
  },
  {
   "cell_type": "code",
   "execution_count": 14,
   "metadata": {},
   "outputs": [
    {
     "data": {
      "text/plain": [
       "23.08227272727273"
      ]
     },
     "execution_count": 14,
     "metadata": {},
     "output_type": "execute_result"
    }
   ],
   "source": [
    "# вычисляем остаточную дисперсию\n",
    "var_o = s_o / (n-k)\n",
    "var_o"
   ]
  },
  {
   "cell_type": "code",
   "execution_count": 16,
   "metadata": {},
   "outputs": [
    {
     "data": {
      "text/plain": [
       "(28, 3)"
      ]
     },
     "execution_count": 16,
     "metadata": {},
     "output_type": "execute_result"
    }
   ],
   "source": [
    "n, k"
   ]
  },
  {
   "cell_type": "code",
   "execution_count": 17,
   "metadata": {},
   "outputs": [],
   "source": [
    "# находим F табличное в таблице критических точек распределения Фишера-Снедекора для заданного уровня значимости alpha = 0.05\n",
    "# и 2 степеней свободы (k-1)\n",
    "# df_horizontal = k - 1 = 2\n",
    "# df_vertical = n - k = 28 - 3 = 25\n",
    "f_t = 3.38"
   ]
  },
  {
   "cell_type": "code",
   "execution_count": 18,
   "metadata": {},
   "outputs": [
    {
     "data": {
      "text/plain": [
       "5.500053450812598"
      ]
     },
     "execution_count": 18,
     "metadata": {},
     "output_type": "execute_result"
    }
   ],
   "source": [
    "# находим F рассчетное\n",
    "f_c = var_f / var_o\n",
    "f_c"
   ]
  },
  {
   "cell_type": "code",
   "execution_count": 19,
   "metadata": {},
   "outputs": [
    {
     "data": {
      "text/plain": [
       "True"
      ]
     },
     "execution_count": 19,
     "metadata": {},
     "output_type": "execute_result"
    }
   ],
   "source": [
    "# сравниваем значения\n",
    "f_c > f_t"
   ]
  },
  {
   "cell_type": "code",
   "execution_count": 20,
   "metadata": {},
   "outputs": [],
   "source": [
    "# Следовательно, различие между группами статистически значимое (на уровне значимости 5%)"
   ]
  },
  {
   "cell_type": "code",
   "execution_count": null,
   "metadata": {},
   "outputs": [],
   "source": []
  }
 ],
 "metadata": {
  "kernelspec": {
   "display_name": "Python 3",
   "language": "python",
   "name": "python3"
  },
  "language_info": {
   "codemirror_mode": {
    "name": "ipython",
    "version": 3
   },
   "file_extension": ".py",
   "mimetype": "text/x-python",
   "name": "python",
   "nbconvert_exporter": "python",
   "pygments_lexer": "ipython3",
   "version": "3.8.1"
  }
 },
 "nbformat": 4,
 "nbformat_minor": 4
}
