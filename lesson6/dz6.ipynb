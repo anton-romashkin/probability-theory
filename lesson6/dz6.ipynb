{
 "cells": [
  {
   "cell_type": "code",
   "execution_count": 2,
   "metadata": {},
   "outputs": [],
   "source": [
    "import numpy as np\n",
    "import matplotlib.pyplot as plt "
   ]
  },
  {
   "cell_type": "markdown",
   "metadata": {},
   "source": [
    "## 1"
   ]
  },
  {
   "cell_type": "markdown",
   "metadata": {},
   "source": [
    "Даны значения величины заработной платы заемщиков банка (zp) и значения их поведенческого кредитного скоринга (ks):\n",
    "zp = [35, 45, 190, 200, 40, 70, 54, 150, 120, 110],\n",
    "ks = [401, 574, 874, 919, 459, 739, 653, 902, 746, 832].\n",
    "* Найдите ковариацию этих двух величин с помощью элементарных действий, а затем с помощью функции cov из numpy\n",
    "* Полученные значения должны быть равны.\n",
    "* Найдите коэффициент корреляции Пирсона с помощью ковариации и среднеквадратичных отклонений двух признаков,\n",
    "а затем с использованием функций из библиотек numpy и pandas."
   ]
  },
  {
   "cell_type": "code",
   "execution_count": 3,
   "metadata": {},
   "outputs": [],
   "source": [
    "zp = np.array([35, 45, 190, 200, 40, 70, 54, 150, 120, 110])\n",
    "ks = np.array([401, 574, 874, 919, 459, 739, 653, 902, 746, 832])"
   ]
  },
  {
   "cell_type": "code",
   "execution_count": 4,
   "metadata": {},
   "outputs": [
    {
     "data": {
      "text/plain": [
       "(9157.839999999997, array([[ 3494.64,  9157.84],\n",
       "        [ 9157.84, 30468.89]]))"
      ]
     },
     "execution_count": 4,
     "metadata": {},
     "output_type": "execute_result"
    }
   ],
   "source": [
    "# Ковариация считается по формуле:\n",
    "# cov = m(x*y) - m(x)*m(y)\n",
    "# m - математическое ожидание\n",
    "\n",
    "cov = np.mean(zp * ks) - np.mean(zp) * np.mean(ks)\n",
    "\n",
    "# Также можно использовать функцию np.cov с параметром ddof=1:\n",
    "cov2 = np.cov(zp, ks, ddof=0)\n",
    "\n",
    "cov, cov2"
   ]
  },
  {
   "cell_type": "code",
   "execution_count": 5,
   "metadata": {},
   "outputs": [
    {
     "data": {
      "text/plain": [
       "<function matplotlib.pyplot.show(*args, **kw)>"
      ]
     },
     "execution_count": 5,
     "metadata": {},
     "output_type": "execute_result"
    },
    {
     "data": {
      "image/png": "[encoded data removed]",
      "text/plain": [
       "<Figure size 480x360 with 1 Axes>"
      ]
     },
     "metadata": {
      "image/png": {
       "height": 320,
       "width": 428
      }
     },
     "output_type": "display_data"
    }
   ],
   "source": [
    "plt.scatter(zp, ks)\n",
    "plt.show"
   ]
  },
  {
   "cell_type": "code",
   "execution_count": 6,
   "metadata": {},
   "outputs": [
    {
     "data": {
      "text/plain": [
       "(array([[1.        , 0.88749009],\n",
       "        [0.88749009, 1.        ]]), 0.8874900920739158)"
      ]
     },
     "execution_count": 6,
     "metadata": {},
     "output_type": "execute_result"
    }
   ],
   "source": [
    "# Коэффициент корреляции Пирсона считается по формуле:\n",
    "# r = cov(x*y) / (std(x) * std(y))\n",
    "# если ковариация смещенная, то и отклонение должно быть смещенным\n",
    "corrcoef_manual = cov / (np.std(zp) * np.std(ks))\n",
    "\n",
    "# Можно использовать формулу np.corrcoef:\n",
    "corrcoef = np.corrcoef(zp, ks)\n",
    "\n",
    "corrcoef, corrcoef_manual"
   ]
  },
  {
   "cell_type": "markdown",
   "metadata": {},
   "source": [
    "## 2"
   ]
  },
  {
   "cell_type": "markdown",
   "metadata": {},
   "source": [
    "Измерены значения IQ выборки студентов,\n",
    "обучающихся в местных технических вузах:\n",
    "131, 125, 115, 122, 131, 115, 107, 99, 125, 111.\n",
    "Известно, что в генеральной совокупности IQ распределен нормально.\n",
    "Найдите доверительный интервал для математического ожидания с надежностью 0.95."
   ]
  },
  {
   "cell_type": "code",
   "execution_count": 7,
   "metadata": {},
   "outputs": [],
   "source": [
    "# Так как значения дисперсии по условию не даны, будем использовать t-критерии. \n",
    "\n",
    "# mean +- t(a/2) * (std(ddof=1) / sqrt(n))\n",
    "\n",
    "# t табличное находим по таблице для v=n-1 и alpha/2, т.е. для 9 и 0.025\n",
    "# alpha = 1 - надёжность\n",
    "\n",
    "# У нас есть все значения выборки, поэтому мы можем посчитать её объем, среднее, std\n",
    "# n = count(array)\n",
    "# mean = mean(array)\n",
    "\n",
    "# std = array.np.std(ddof=1)\n",
    "# sqrt n = np.sqrt(n)"
   ]
  },
  {
   "cell_type": "code",
   "execution_count": 8,
   "metadata": {},
   "outputs": [],
   "source": [
    "x_array = np.array([131, 125, 115, 122, 131, 115, 107, 99, 125, 111])\n",
    "\n",
    "mean = np.mean(x_array)\n",
    "n = np.count_nonzero(x_array)\n",
    "std = np.std(x_array, ddof=1)\n",
    "t = 2.262"
   ]
  },
  {
   "cell_type": "code",
   "execution_count": 9,
   "metadata": {},
   "outputs": [
    {
     "data": {
      "text/plain": [
       "(110.55660776308164, 125.64339223691834)"
      ]
     },
     "execution_count": 9,
     "metadata": {},
     "output_type": "execute_result"
    }
   ],
   "source": [
    "left_border = mean - t * (std / np.sqrt(n))\n",
    "right_border = mean + t * (std / np.sqrt(n))\n",
    "\n",
    "left_border, right_border"
   ]
  },
  {
   "cell_type": "markdown",
   "metadata": {},
   "source": [
    "## 3"
   ]
  },
  {
   "cell_type": "markdown",
   "metadata": {},
   "source": [
    "Известно, что рост футболистов в сборной распределен нормально\n",
    "с дисперсией генеральной совокупности, равной 25 кв.см. Объем выборки равен 27,\n",
    "среднее выборочное составляет 174.2. Найдите доверительный интервал для математического\n",
    "ожидания с надежностью 0.95."
   ]
  },
  {
   "cell_type": "code",
   "execution_count": 10,
   "metadata": {},
   "outputs": [],
   "source": [
    "# Дисперсия дана по условию, поэтому используем таблицу z-распределения\n",
    "# mean +- z(a/2) * (std / sqrt(n))\n",
    "\n",
    "# z будем искать по таблице для 0.025\n",
    "# mean - среднее выборочное\n",
    "# std = sqrt(var), var по условию 25\n",
    "# n - объем выборки - 27"
   ]
  },
  {
   "cell_type": "code",
   "execution_count": 11,
   "metadata": {},
   "outputs": [],
   "source": [
    "mean = 174.2\n",
    "n = 27\n",
    "var = 25\n",
    "std = np.sqrt(var)\n",
    "z = 1.96"
   ]
  },
  {
   "cell_type": "code",
   "execution_count": 13,
   "metadata": {},
   "outputs": [
    {
     "data": {
      "text/plain": [
       "(172.31398912064722, 176.08601087935276)"
      ]
     },
     "execution_count": 13,
     "metadata": {},
     "output_type": "execute_result"
    }
   ],
   "source": [
    "left_border = mean - z * (std / np.sqrt(n))\n",
    "right_border = mean + z * (std / np.sqrt(n))\n",
    "\n",
    "left_border, right_border"
   ]
  },
  {
   "cell_type": "markdown",
   "metadata": {},
   "source": [
    "## 4"
   ]
  },
  {
   "cell_type": "markdown",
   "metadata": {},
   "source": [
    "Выберите тему для проектной работы по курсу Теории вероятностей и математической статистики\n",
    "и напишите ее в комментарии к Практическому заданию. (крайний срок -с 8-ым ДЗ)"
   ]
  },
  {
   "cell_type": "markdown",
   "metadata": {},
   "source": [
    "Выберу в следующий раз"
   ]
  }
 ],
 "metadata": {
  "kernelspec": {
   "display_name": "Python 3",
   "language": "python",
   "name": "python3"
  },
  "language_info": {
   "codemirror_mode": {
    "name": "ipython",
    "version": 3
   },
   "file_extension": ".py",
   "mimetype": "text/x-python",
   "name": "python",
   "nbconvert_exporter": "python",
   "pygments_lexer": "ipython3",
   "version": "3.6.6+"
  }
 },
 "nbformat": 4,
 "nbformat_minor": 2
}
