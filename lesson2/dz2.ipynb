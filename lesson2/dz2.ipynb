{
 "cells": [
  {
   "cell_type": "code",
   "execution_count": 1,
   "metadata": {},
   "outputs": [],
   "source": [
    "import numpy as np"
   ]
  },
  {
   "cell_type": "code",
   "execution_count": 2,
   "metadata": {},
   "outputs": [],
   "source": [
    "def binomial(n, k, p):\n",
    "    \"\"\"\n",
    "    Биномиальное распределение для случайной величины x\n",
    "    n - количество испытаний\n",
    "    k - число наступления события\n",
    "    p - вероятность наступления события\n",
    "    \"\"\"\n",
    "    comb = int(np.math.factorial(n) / (np.math.factorial(k) * np.math.factorial(n - k)))\n",
    "    p_x = comb * (p ** k) * (1 - p) ** (n - k)\n",
    "    return p_x\n",
    "    \n",
    "def puason(n, m, p):\n",
    "    \"\"\"\"\n",
    "    Распределение Пуассона. Вычисление вероятности того, что событие произойдет m раз в n испытаний\n",
    "    p - вероятность появления события\n",
    "    \"\"\"\n",
    "    lam = n * p\n",
    "    p_m = (lam ** m / np.math.factorial(m)) * np.exp(-lam)\n",
    "    return p_m\n",
    "    "
   ]
  },
  {
   "cell_type": "markdown",
   "metadata": {},
   "source": [
    "## 1"
   ]
  },
  {
   "cell_type": "markdown",
   "metadata": {},
   "source": [
    "Вероятность того, что стрелок попадет в мишень, выстрелив один раз, равна 0.8. Стрелок выстрелил 100 раз. Найдите вероятность того, что стрелок попадет в цель ровно 85 раз."
   ]
  },
  {
   "cell_type": "code",
   "execution_count": 3,
   "metadata": {},
   "outputs": [
    {
     "data": {
      "text/plain": [
       "0.048061793700746355"
      ]
     },
     "execution_count": 3,
     "metadata": {},
     "output_type": "execute_result"
    }
   ],
   "source": [
    "p = binomial(100, 85, 0.8)\n",
    "\n",
    "p"
   ]
  },
  {
   "cell_type": "markdown",
   "metadata": {},
   "source": [
    "## 2"
   ]
  },
  {
   "cell_type": "markdown",
   "metadata": {},
   "source": [
    "Вероятность того, что лампочка перегорит в течение первого дня эксплуатации, равна 0.0004. В жилом комплексе после ремонта в один день включили 5000 новых лампочек. Какова вероятность, что ни одна из них не перегорит в первый день? Какова вероятность, что перегорят ровно две?"
   ]
  },
  {
   "cell_type": "code",
   "execution_count": 4,
   "metadata": {},
   "outputs": [
    {
     "data": {
      "text/plain": [
       "(0.1353352832366127, 0.2706705664732254)"
      ]
     },
     "execution_count": 4,
     "metadata": {},
     "output_type": "execute_result"
    }
   ],
   "source": [
    "p_0 = puason(5000, 0, 0.0004)\n",
    "p_2 = puason(5000, 2, 0.0004)\n",
    "\n",
    "p_0, p_2"
   ]
  },
  {
   "cell_type": "markdown",
   "metadata": {},
   "source": [
    "## 3"
   ]
  },
  {
   "cell_type": "markdown",
   "metadata": {},
   "source": [
    "Монету подбросили 144 раза. Какова вероятность, что орел выпадет ровно 70 раз?"
   ]
  },
  {
   "cell_type": "code",
   "execution_count": 6,
   "metadata": {},
   "outputs": [
    {
     "data": {
      "text/plain": [
       "0.06281178035144776"
      ]
     },
     "execution_count": 6,
     "metadata": {},
     "output_type": "execute_result"
    }
   ],
   "source": [
    "p = binomial(144, 70, 0.5)\n",
    "\n",
    "p"
   ]
  },
  {
   "cell_type": "markdown",
   "metadata": {},
   "source": [
    "## 4"
   ]
  },
  {
   "cell_type": "markdown",
   "metadata": {},
   "source": [
    "В первом ящике находится 10 мячей, из которых 7 - белые. Во втором ящике - 11 мячей, из которых 9 белых. Из каждого ящика вытаскивают случайным образом по два мяча. Какова вероятность того, что все мячи белые? Какова вероятность того, что ровно два мяча белые? Какова вероятность того, что хотя бы один мяч белый?"
   ]
  },
  {
   "cell_type": "code",
   "execution_count": 12,
   "metadata": {},
   "outputs": [
    {
     "data": {
      "text/plain": [
       "0.3054545454545454"
      ]
     },
     "execution_count": 12,
     "metadata": {},
     "output_type": "execute_result"
    }
   ],
   "source": [
    "# все мячи белые\n",
    "\n",
    "# oooo\n",
    "p = 7/10 * 6/9 * 9/11 * 8/10\n",
    "\n",
    "p"
   ]
  },
  {
   "cell_type": "code",
   "execution_count": 13,
   "metadata": {},
   "outputs": [
    {
     "data": {
      "text/plain": [
       "0.2006060606060606"
      ]
     },
     "execution_count": 13,
     "metadata": {},
     "output_type": "execute_result"
    }
   ],
   "source": [
    "# ровно 2 мяча белые\n",
    "\n",
    "# ooxx\n",
    "p1 = 7/10 * 3/9 * 2/11 * 1/10\n",
    "# xoox\n",
    "p2 = 3/10 * 7/9 * 9/11 * 2/10\n",
    "# xxoo\n",
    "p3 = 3/10 * 2/9 * 9/11 * 8/10\n",
    "# oxxo\n",
    "p4 = 7/10 * 3/9 * 2/11 * 9/10\n",
    "# oxox\n",
    "p5 = 7/10 * 3/9 * 9/11 * 2/10\n",
    "# xoxo\n",
    "p6 = 3/10 * 7/9 * 2/11 * 9/10\n",
    "\n",
    "p = p1 + p2 + p3 + p4 + p5 + p6\n",
    "\n",
    "p"
   ]
  },
  {
   "cell_type": "code",
   "execution_count": 14,
   "metadata": {},
   "outputs": [
    {
     "data": {
      "text/plain": [
       "0.9987878787878788"
      ]
     },
     "execution_count": 14,
     "metadata": {},
     "output_type": "execute_result"
    }
   ],
   "source": [
    "# хотя бы один мяч белый\n",
    "\n",
    "# xxxx\n",
    "p0 = 3/10 * 2/9 * 2/11 * 1/10\n",
    "\n",
    "p = 1 - p0\n",
    "\n",
    "p"
   ]
  }
 ],
 "metadata": {
  "kernelspec": {
   "display_name": "Python 3",
   "language": "python",
   "name": "python3"
  },
  "language_info": {
   "codemirror_mode": {
    "name": "ipython",
    "version": 3
   },
   "file_extension": ".py",
   "mimetype": "text/x-python",
   "name": "python",
   "nbconvert_exporter": "python",
   "pygments_lexer": "ipython3",
   "version": "3.8.1"
  }
 },
 "nbformat": 4,
 "nbformat_minor": 4
}
