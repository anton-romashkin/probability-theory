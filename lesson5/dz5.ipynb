{
 "cells": [
  {
   "cell_type": "code",
   "execution_count": 4,
   "metadata": {},
   "outputs": [],
   "source": [
    "import numpy as np"
   ]
  },
  {
   "cell_type": "markdown",
   "metadata": {},
   "source": [
    "## 1 "
   ]
  },
  {
   "cell_type": "markdown",
   "metadata": {},
   "source": [
    "1.Известно, что генеральная совокупность распределена нормально \u000b",
    "со средним квадратическим отклонением, равным 16.\u000b",
    "Найти доверительный интервал для оценки математического ожидания с надежностью 0.95,\u000b",
    "если выборочная средняя M = 80, а объем выборки n = 256."
   ]
  },
  {
   "cell_type": "code",
   "execution_count": 5,
   "metadata": {},
   "outputs": [],
   "source": [
    "# Так как нам известна сигма, используем таблицу z-распределения\n",
    "# mean +- z(a/2) * std / sqrt(n)\n",
    "\n",
    "# a = 5%, так как 100 - 95 = 5%\n",
    "# z будем искать от 0.025 по таблице\n",
    "# n - объем выборки, корень из n = 16"
   ]
  },
  {
   "cell_type": "code",
   "execution_count": 9,
   "metadata": {},
   "outputs": [],
   "source": [
    "mean = 80\n",
    "n = 256\n",
    "std = 16\n",
    "a = 1 - 0.95\n",
    "z = 1.96"
   ]
  },
  {
   "cell_type": "code",
   "execution_count": 10,
   "metadata": {},
   "outputs": [],
   "source": [
    "r_border = mean + z * (std / np.sqrt(n))\n",
    "l_border = mean - z * (std / np.sqrt(n))"
   ]
  },
  {
   "cell_type": "code",
   "execution_count": 11,
   "metadata": {},
   "outputs": [
    {
     "data": {
      "text/plain": [
       "(78.04, 81.96)"
      ]
     },
     "execution_count": 11,
     "metadata": {},
     "output_type": "execute_result"
    }
   ],
   "source": [
    "l_border, r_border"
   ]
  },
  {
   "cell_type": "markdown",
   "metadata": {},
   "source": [
    "## 2"
   ]
  },
  {
   "cell_type": "markdown",
   "metadata": {},
   "source": [
    "2 В результате 10 независимых измерений некоторой величины X, выполненных с одинаковой точностью,\u000b",
    "получены опытные данные:\u000b",
    "6.9, 6.1, 6.2, 6.8, 7.5, 6.3, 6.4, 6.9, 6.7, 6.1\u000b",
    "Предполагая, что результаты измерений подчинены нормальному закону распределения вероятностей,\u000b",
    "оценить истинное значение величины X при помощи доверительного интервала, покрывающего это\u000b",
    "значение с доверительной вероятностью 0,95."
   ]
  },
  {
   "cell_type": "code",
   "execution_count": 12,
   "metadata": {},
   "outputs": [],
   "source": [
    "# в этой задаче дисперсия неизвестна, поэтому будем использовать критерий стъюдента\n",
    "# X +- t(a/2) * std(ddof=1) / sqrt(n)\n",
    "\n",
    "# У нас есть все значения выборки, поэтому мы можем посчитать объем и среднее\n",
    "# n = count(array)\n",
    "# mean = mean(array)\n",
    "# std = array.np.std(ddof=1)\n",
    "# sqrt n = np.sqrt(n)\n",
    "\n",
    "# t находим по таблице для n-1\n",
    "# alpha = 1 - доверительная вероятность"
   ]
  },
  {
   "cell_type": "code",
   "execution_count": 14,
   "metadata": {},
   "outputs": [],
   "source": [
    "x_array = np.array([6.9, 6.1, 6.2, 6.8, 7.5, 6.3, 6.4, 6.9, 6.7, 6.1])"
   ]
  },
  {
   "cell_type": "code",
   "execution_count": 15,
   "metadata": {},
   "outputs": [],
   "source": [
    "mean = np.mean(x_array)\n",
    "n = np.count_nonzero(x_array)\n",
    "a = 1 - 0.95\n",
    "t = 2.262\n",
    "std = x_array.std(ddof=1)"
   ]
  },
  {
   "cell_type": "code",
   "execution_count": 18,
   "metadata": {},
   "outputs": [
    {
     "data": {
      "text/plain": [
       "(6.267538255912426, 6.912461744087575)"
      ]
     },
     "execution_count": 18,
     "metadata": {},
     "output_type": "execute_result"
    }
   ],
   "source": [
    "r_border = mean + (t * std) / np.sqrt(n)\n",
    "l_border = mean - (t * std) / np.sqrt(n)\n",
    "\n",
    "l_border, r_border"
   ]
  },
  {
   "cell_type": "markdown",
   "metadata": {},
   "source": [
    "## 3"
   ]
  },
  {
   "cell_type": "markdown",
   "metadata": {},
   "source": [
    "3 Утверждается, что шарики для подшипников, изготовленные автоматическим станком, имеют средний диаметр 17 мм.\u000b",
    "Используя односторонний критерий с α=0,05, проверить эту гипотезу, если в выборке из n=100 шариков средний диаметр\u000b",
    "оказался равным 17.5 мм, а дисперсия известна и равна 4 кв.мм."
   ]
  },
  {
   "cell_type": "code",
   "execution_count": null,
   "metadata": {},
   "outputs": [],
   "source": [
    "# В этой задаче нужно сравнить табличный z с тем, который мы получим в ходе расчетов.\n",
    "\n",
    "# Табличный z нужно искать для 100 - 5 = 95%, 5% это ошибка, alpha, она дана по условию задачи\n",
    "# в таблице нет ровного значения для 0.95, поэтому возьмем среднее между 0.9495 и 0.9505, z равен 1,645\n",
    "\n",
    "# Так как в задаче дана дисперсия, будем использовать Z-тестирование\n",
    "# z_test = (mean * mu0) / std * sqrt(n)\n",
    "\n",
    "# mean дана по условию - 17.5 - этот та средняя, которую проверяем, средняя гипотезы H1\n",
    "# mu0 - 17 - принятая ренее средняя, средняя для гипотезы H0\n",
    "# std = sqrt(var), а var дана по условию\n",
    "# n = 100, sqrt(n) = 10\n",
    "\n"
   ]
  },
  {
   "cell_type": "code",
   "execution_count": 19,
   "metadata": {},
   "outputs": [],
   "source": [
    "mean = 17.5\n",
    "mean0 = 17\n",
    "n = 100\n",
    "var = 4\n",
    "std = np.sqrt(var)\n",
    "z = 1.645"
   ]
  },
  {
   "cell_type": "code",
   "execution_count": 20,
   "metadata": {},
   "outputs": [],
   "source": [
    "z_test = (mean - mean0) * np.sqrt(n) / std"
   ]
  },
  {
   "cell_type": "code",
   "execution_count": 21,
   "metadata": {},
   "outputs": [
    {
     "data": {
      "text/plain": [
       "True"
      ]
     },
     "execution_count": 21,
     "metadata": {},
     "output_type": "execute_result"
    }
   ],
   "source": [
    "# проверяем, верна ли альтернативная теория\n",
    "z_test > z"
   ]
  },
  {
   "cell_type": "code",
   "execution_count": 22,
   "metadata": {},
   "outputs": [
    {
     "data": {
      "text/plain": [
       "(1.645, 2.5)"
      ]
     },
     "execution_count": 22,
     "metadata": {},
     "output_type": "execute_result"
    }
   ],
   "source": [
    "z, z_test"
   ]
  },
  {
   "cell_type": "markdown",
   "metadata": {},
   "source": [
    "## 4"
   ]
  },
  {
   "cell_type": "markdown",
   "metadata": {},
   "source": [
    "4 Продавец утверждает, что средний вес пачки печенья составляет 200 г. Из партии извлечена выборка из 10 пачек. \n",
    "Вес каждой пачки составляет:\n",
    "202, 203, 199, 197, 195, 201, 200, 204, 194, 190. Известно, \n",
    "что их веса распределены нормально. \n",
    "Верно ли утверждение продавца, если учитывать, что доверительная вероятность равна 99%?"
   ]
  },
  {
   "cell_type": "code",
   "execution_count": null,
   "metadata": {},
   "outputs": [],
   "source": [
    "# В этой задаче диспрсия не дана, поэтому используем критерий стъюдента. Нам нужно сравнить табличный t с расчетным.\n",
    "\n",
    "# Табличный t находится по таблице для n-1 и alpha/2. в нашей задаче n-1=9 , а alpha/2 = 0.005. Находим, что t равен 3.250\n",
    "\n",
    "# Расчётный t находим по формуле: t_test = (mean - mean0) * sqrt(n) / std\n",
    "# mean = mean(array)\n",
    "# mean0 = 200 по условию задачи\n",
    "# n = count(array)\n",
    "# std для t-критерия считатся по формуле array.np.std(ddof=1)"
   ]
  },
  {
   "cell_type": "code",
   "execution_count": 23,
   "metadata": {},
   "outputs": [],
   "source": [
    "x_array = np.array([202, 203, 199, 197, 195, 201, 200, 204, 194, 190])\n",
    "mean0 = 200"
   ]
  },
  {
   "cell_type": "code",
   "execution_count": 24,
   "metadata": {},
   "outputs": [],
   "source": [
    "mean = np.mean(x_array)\n",
    "n = np.count_nonzero(x_array)\n",
    "a = 1 - 0.99\n",
    "std = x_array.std(ddof=1)\n",
    "t = 3.25"
   ]
  },
  {
   "cell_type": "code",
   "execution_count": 25,
   "metadata": {},
   "outputs": [
    {
     "data": {
      "text/plain": [
       "-1.0651074037450896"
      ]
     },
     "execution_count": 25,
     "metadata": {},
     "output_type": "execute_result"
    }
   ],
   "source": [
    "t_test = (mean - mean0) * np.sqrt(n) / std\n",
    "t_test"
   ]
  },
  {
   "cell_type": "code",
   "execution_count": 26,
   "metadata": {},
   "outputs": [
    {
     "data": {
      "text/plain": [
       "False"
      ]
     },
     "execution_count": 26,
     "metadata": {},
     "output_type": "execute_result"
    }
   ],
   "source": [
    "t_test < -t"
   ]
  },
  {
   "cell_type": "code",
   "execution_count": 27,
   "metadata": {},
   "outputs": [
    {
     "data": {
      "text/plain": [
       "False"
      ]
     },
     "execution_count": 27,
     "metadata": {},
     "output_type": "execute_result"
    }
   ],
   "source": [
    "t_test > t"
   ]
  },
  {
   "cell_type": "code",
   "execution_count": null,
   "metadata": {},
   "outputs": [],
   "source": [
    "# верна нулевая теория"
   ]
  }
 ],
 "metadata": {
  "kernelspec": {
   "display_name": "Python 3",
   "language": "python",
   "name": "python3"
  },
  "language_info": {
   "codemirror_mode": {
    "name": "ipython",
    "version": 3
   },
   "file_extension": ".py",
   "mimetype": "text/x-python",
   "name": "python",
   "nbconvert_exporter": "python",
   "pygments_lexer": "ipython3",
   "version": "3.6.6+"
  }
 },
 "nbformat": 4,
 "nbformat_minor": 4
}
